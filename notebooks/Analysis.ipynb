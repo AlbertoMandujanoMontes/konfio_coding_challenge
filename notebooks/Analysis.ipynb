{
 "cells": [
  {
   "cell_type": "code",
   "execution_count": 1,
   "id": "ea24bbd5-8de3-4f94-9976-a2e61a0cd4f1",
   "metadata": {},
   "outputs": [],
   "source": [
    "from sqlalchemy import create_engine\n",
    "import pandas as pd\n",
    "from pyspark.sql import SparkSession\n",
    "from pyspark.sql.functions import col, avg\n",
    "from pyspark.sql.window import Window\n",
    "from pyspark.sql.functions import to_date\n",
    "import matplotlib.pyplot as plt\n",
    "import pandas as pd"
   ]
  },
  {
   "cell_type": "code",
   "execution_count": 2,
   "id": "9bb2166b-d1b0-4120-a83b-cfc1c48ba1c2",
   "metadata": {},
   "outputs": [],
   "source": [
    "#First we get the bitcoin data from the database"
   ]
  },
  {
   "cell_type": "code",
   "execution_count": 3,
   "id": "c2829ff2-f6a4-4e6e-9776-d54a93a4fcfd",
   "metadata": {},
   "outputs": [],
   "source": [
    "user = \"\"\n",
    "password = \"\"\n",
    "host = \"mysql\"  # this is the Docker service name, not localhost\n",
    "port = 3306\n",
    "database = \"konfio_coding_challenge\"\n",
    "\n",
    "# SQLAlchemy connection string\n",
    "connection_str = f\"mysql+pymysql://{user}:{password}@{host}:{port}/{database}\"\n",
    "engine = create_engine(connection_str)\n"
   ]
  },
  {
   "cell_type": "code",
   "execution_count": 4,
   "id": "4847f972-e633-4066-98ed-40767ce43ad2",
   "metadata": {},
   "outputs": [
    {
     "data": {
      "text/html": [
       "<div>\n",
       "<style scoped>\n",
       "    .dataframe tbody tr th:only-of-type {\n",
       "        vertical-align: middle;\n",
       "    }\n",
       "\n",
       "    .dataframe tbody tr th {\n",
       "        vertical-align: top;\n",
       "    }\n",
       "\n",
       "    .dataframe thead th {\n",
       "        text-align: right;\n",
       "    }\n",
       "</style>\n",
       "<table border=\"1\" class=\"dataframe\">\n",
       "  <thead>\n",
       "    <tr style=\"text-align: right;\">\n",
       "      <th></th>\n",
       "      <th>id_crypto_currency_value</th>\n",
       "      <th>id_crypto</th>\n",
       "      <th>crypto_name</th>\n",
       "      <th>crypto_symbol</th>\n",
       "      <th>date</th>\n",
       "      <th>price</th>\n",
       "      <th>created_on</th>\n",
       "      <th>modified_on</th>\n",
       "    </tr>\n",
       "  </thead>\n",
       "  <tbody>\n",
       "    <tr>\n",
       "      <th>0</th>\n",
       "      <td>31</td>\n",
       "      <td>bitcoin</td>\n",
       "      <td>Bitcoin</td>\n",
       "      <td>btc</td>\n",
       "      <td>2022-01-31</td>\n",
       "      <td>38483.1</td>\n",
       "      <td>2025-04-03 01:59:46</td>\n",
       "      <td>2025-04-03 01:59:46</td>\n",
       "    </tr>\n",
       "    <tr>\n",
       "      <th>1</th>\n",
       "      <td>32</td>\n",
       "      <td>bitcoin</td>\n",
       "      <td>Bitcoin</td>\n",
       "      <td>btc</td>\n",
       "      <td>2022-02-01</td>\n",
       "      <td>38743.3</td>\n",
       "      <td>2025-04-03 01:59:46</td>\n",
       "      <td>2025-04-03 01:59:46</td>\n",
       "    </tr>\n",
       "    <tr>\n",
       "      <th>2</th>\n",
       "      <td>33</td>\n",
       "      <td>bitcoin</td>\n",
       "      <td>Bitcoin</td>\n",
       "      <td>btc</td>\n",
       "      <td>2022-02-02</td>\n",
       "      <td>36953.0</td>\n",
       "      <td>2025-04-03 01:59:46</td>\n",
       "      <td>2025-04-03 01:59:46</td>\n",
       "    </tr>\n",
       "    <tr>\n",
       "      <th>3</th>\n",
       "      <td>34</td>\n",
       "      <td>bitcoin</td>\n",
       "      <td>Bitcoin</td>\n",
       "      <td>btc</td>\n",
       "      <td>2022-02-03</td>\n",
       "      <td>37154.6</td>\n",
       "      <td>2025-04-03 01:59:46</td>\n",
       "      <td>2025-04-03 01:59:46</td>\n",
       "    </tr>\n",
       "    <tr>\n",
       "      <th>4</th>\n",
       "      <td>35</td>\n",
       "      <td>bitcoin</td>\n",
       "      <td>Bitcoin</td>\n",
       "      <td>btc</td>\n",
       "      <td>2022-02-04</td>\n",
       "      <td>41500.9</td>\n",
       "      <td>2025-04-03 01:59:46</td>\n",
       "      <td>2025-04-03 01:59:46</td>\n",
       "    </tr>\n",
       "  </tbody>\n",
       "</table>\n",
       "</div>"
      ],
      "text/plain": [
       "   id_crypto_currency_value id_crypto crypto_name crypto_symbol        date  \\\n",
       "0                        31   bitcoin     Bitcoin           btc  2022-01-31   \n",
       "1                        32   bitcoin     Bitcoin           btc  2022-02-01   \n",
       "2                        33   bitcoin     Bitcoin           btc  2022-02-02   \n",
       "3                        34   bitcoin     Bitcoin           btc  2022-02-03   \n",
       "4                        35   bitcoin     Bitcoin           btc  2022-02-04   \n",
       "\n",
       "     price          created_on         modified_on  \n",
       "0  38483.1 2025-04-03 01:59:46 2025-04-03 01:59:46  \n",
       "1  38743.3 2025-04-03 01:59:46 2025-04-03 01:59:46  \n",
       "2  36953.0 2025-04-03 01:59:46 2025-04-03 01:59:46  \n",
       "3  37154.6 2025-04-03 01:59:46 2025-04-03 01:59:46  \n",
       "4  41500.9 2025-04-03 01:59:46 2025-04-03 01:59:46  "
      ]
     },
     "execution_count": 4,
     "metadata": {},
     "output_type": "execute_result"
    }
   ],
   "source": [
    "query = \"\"\"\n",
    "SELECT *\n",
    "FROM crypto_currency_value\n",
    "WHERE date BETWEEN '2022-01-31' AND '2022-04-01'\n",
    "\"\"\"\n",
    "\n",
    "df = pd.read_sql(query, engine)\n",
    "df.head()  # show first few rows\n"
   ]
  },
  {
   "cell_type": "code",
   "execution_count": 5,
   "id": "c387b4b1-8e53-4fb7-bb2e-ecfe8a59d807",
   "metadata": {},
   "outputs": [
    {
     "name": "stderr",
     "output_type": "stream",
     "text": [
      "Setting default log level to \"WARN\".\n",
      "To adjust logging level use sc.setLogLevel(newLevel). For SparkR, use setLogLevel(newLevel).\n",
      "25/04/03 01:59:59 WARN NativeCodeLoader: Unable to load native-hadoop library for your platform... using builtin-java classes where applicable\n"
     ]
    }
   ],
   "source": [
    "spark = SparkSession.builder \\\n",
    "    .appName(\"CryptoMovingAverage\") \\\n",
    "    .getOrCreate()\n"
   ]
  },
  {
   "cell_type": "code",
   "execution_count": 6,
   "id": "7d7afdbe-488f-4508-b43e-ce8195359a32",
   "metadata": {},
   "outputs": [
    {
     "name": "stderr",
     "output_type": "stream",
     "text": [
      "/opt/conda/lib/python3.11/site-packages/pyspark/sql/pandas/conversion.py:485: FutureWarning: is_datetime64tz_dtype is deprecated and will be removed in a future version. Check `isinstance(dtype, pd.DatetimeTZDtype)` instead.\n",
      "  if should_localize and is_datetime64tz_dtype(s.dtype) and s.dt.tz is not None:\n"
     ]
    }
   ],
   "source": [
    "spark_df = spark.createDataFrame(df)\n"
   ]
  },
  {
   "cell_type": "code",
   "execution_count": 7,
   "id": "637f6885-dd4e-48d4-8aac-49307328ece4",
   "metadata": {},
   "outputs": [],
   "source": [
    "spark_df = spark_df.withColumn(\"date\", to_date(\"date\"))\n"
   ]
  },
  {
   "cell_type": "code",
   "execution_count": 8,
   "id": "218b22a6-b8d3-43b6-9c23-bea81e72e95c",
   "metadata": {},
   "outputs": [],
   "source": [
    "window_spec = Window.partitionBy(\"id_crypto\").orderBy(\"date\").rowsBetween(-4, 0)\n",
    "\n",
    "moving_avg_df = spark_df.withColumn(\n",
    "    \"moving_avg_5_day\",\n",
    "    avg(\"price\").over(window_spec)\n",
    ")\n"
   ]
  },
  {
   "cell_type": "code",
   "execution_count": 9,
   "id": "00873f2f-92ad-45e4-9e28-d20e7adb3705",
   "metadata": {},
   "outputs": [
    {
     "name": "stderr",
     "output_type": "stream",
     "text": [
      "/opt/conda/lib/python3.11/site-packages/pyspark/sql/pandas/types.py:563: FutureWarning: is_datetime64tz_dtype is deprecated and will be removed in a future version. Check `isinstance(dtype, pd.DatetimeTZDtype)` instead.\n",
      "  if not is_datetime64tz_dtype(pser.dtype):\n",
      "/opt/conda/lib/python3.11/site-packages/pyspark/sql/pandas/types.py:379: FutureWarning: is_datetime64tz_dtype is deprecated and will be removed in a future version. Check `isinstance(dtype, pd.DatetimeTZDtype)` instead.\n",
      "  if is_datetime64tz_dtype(s.dtype):\n",
      "/opt/conda/lib/python3.11/site-packages/pyspark/sql/pandas/types.py:563: FutureWarning: is_datetime64tz_dtype is deprecated and will be removed in a future version. Check `isinstance(dtype, pd.DatetimeTZDtype)` instead.\n",
      "  if not is_datetime64tz_dtype(pser.dtype):\n",
      "/opt/conda/lib/python3.11/site-packages/pyspark/sql/pandas/types.py:379: FutureWarning: is_datetime64tz_dtype is deprecated and will be removed in a future version. Check `isinstance(dtype, pd.DatetimeTZDtype)` instead.\n",
      "  if is_datetime64tz_dtype(s.dtype):\n"
     ]
    }
   ],
   "source": [
    "df_ma = moving_avg_df.orderBy(\"date\").toPandas()\n"
   ]
  },
  {
   "cell_type": "code",
   "execution_count": 10,
   "id": "60e86e20-b9eb-4599-9ad7-3a9183830da6",
   "metadata": {},
   "outputs": [
    {
     "data": {
      "text/html": [
       "<div>\n",
       "<style scoped>\n",
       "    .dataframe tbody tr th:only-of-type {\n",
       "        vertical-align: middle;\n",
       "    }\n",
       "\n",
       "    .dataframe tbody tr th {\n",
       "        vertical-align: top;\n",
       "    }\n",
       "\n",
       "    .dataframe thead th {\n",
       "        text-align: right;\n",
       "    }\n",
       "</style>\n",
       "<table border=\"1\" class=\"dataframe\">\n",
       "  <thead>\n",
       "    <tr style=\"text-align: right;\">\n",
       "      <th></th>\n",
       "      <th>id_crypto_currency_value</th>\n",
       "      <th>id_crypto</th>\n",
       "      <th>crypto_name</th>\n",
       "      <th>crypto_symbol</th>\n",
       "      <th>date</th>\n",
       "      <th>price</th>\n",
       "      <th>created_on</th>\n",
       "      <th>modified_on</th>\n",
       "      <th>moving_avg_5_day</th>\n",
       "    </tr>\n",
       "  </thead>\n",
       "  <tbody>\n",
       "    <tr>\n",
       "      <th>0</th>\n",
       "      <td>31</td>\n",
       "      <td>bitcoin</td>\n",
       "      <td>Bitcoin</td>\n",
       "      <td>btc</td>\n",
       "      <td>2022-01-31</td>\n",
       "      <td>38483.1</td>\n",
       "      <td>2025-04-03 01:59:46</td>\n",
       "      <td>2025-04-03 01:59:46</td>\n",
       "      <td>38483.10</td>\n",
       "    </tr>\n",
       "    <tr>\n",
       "      <th>1</th>\n",
       "      <td>32</td>\n",
       "      <td>bitcoin</td>\n",
       "      <td>Bitcoin</td>\n",
       "      <td>btc</td>\n",
       "      <td>2022-02-01</td>\n",
       "      <td>38743.3</td>\n",
       "      <td>2025-04-03 01:59:46</td>\n",
       "      <td>2025-04-03 01:59:46</td>\n",
       "      <td>38613.20</td>\n",
       "    </tr>\n",
       "    <tr>\n",
       "      <th>2</th>\n",
       "      <td>33</td>\n",
       "      <td>bitcoin</td>\n",
       "      <td>Bitcoin</td>\n",
       "      <td>btc</td>\n",
       "      <td>2022-02-02</td>\n",
       "      <td>36953.0</td>\n",
       "      <td>2025-04-03 01:59:46</td>\n",
       "      <td>2025-04-03 01:59:46</td>\n",
       "      <td>38059.80</td>\n",
       "    </tr>\n",
       "    <tr>\n",
       "      <th>3</th>\n",
       "      <td>34</td>\n",
       "      <td>bitcoin</td>\n",
       "      <td>Bitcoin</td>\n",
       "      <td>btc</td>\n",
       "      <td>2022-02-03</td>\n",
       "      <td>37154.6</td>\n",
       "      <td>2025-04-03 01:59:46</td>\n",
       "      <td>2025-04-03 01:59:46</td>\n",
       "      <td>37833.50</td>\n",
       "    </tr>\n",
       "    <tr>\n",
       "      <th>4</th>\n",
       "      <td>35</td>\n",
       "      <td>bitcoin</td>\n",
       "      <td>Bitcoin</td>\n",
       "      <td>btc</td>\n",
       "      <td>2022-02-04</td>\n",
       "      <td>41500.9</td>\n",
       "      <td>2025-04-03 01:59:46</td>\n",
       "      <td>2025-04-03 01:59:46</td>\n",
       "      <td>38566.98</td>\n",
       "    </tr>\n",
       "  </tbody>\n",
       "</table>\n",
       "</div>"
      ],
      "text/plain": [
       "   id_crypto_currency_value id_crypto crypto_name crypto_symbol        date  \\\n",
       "0                        31   bitcoin     Bitcoin           btc  2022-01-31   \n",
       "1                        32   bitcoin     Bitcoin           btc  2022-02-01   \n",
       "2                        33   bitcoin     Bitcoin           btc  2022-02-02   \n",
       "3                        34   bitcoin     Bitcoin           btc  2022-02-03   \n",
       "4                        35   bitcoin     Bitcoin           btc  2022-02-04   \n",
       "\n",
       "     price          created_on         modified_on  moving_avg_5_day  \n",
       "0  38483.1 2025-04-03 01:59:46 2025-04-03 01:59:46          38483.10  \n",
       "1  38743.3 2025-04-03 01:59:46 2025-04-03 01:59:46          38613.20  \n",
       "2  36953.0 2025-04-03 01:59:46 2025-04-03 01:59:46          38059.80  \n",
       "3  37154.6 2025-04-03 01:59:46 2025-04-03 01:59:46          37833.50  \n",
       "4  41500.9 2025-04-03 01:59:46 2025-04-03 01:59:46          38566.98  "
      ]
     },
     "execution_count": 10,
     "metadata": {},
     "output_type": "execute_result"
    }
   ],
   "source": [
    "df_ma.head()"
   ]
  },
  {
   "cell_type": "code",
   "execution_count": 11,
   "id": "48d57f41-e647-46fa-8990-170d78482ad2",
   "metadata": {},
   "outputs": [
    {
     "data": {
      "image/png": "[encoded data removed]",
      "text/plain": [
       "<Figure size 1200x600 with 1 Axes>"
      ]
     },
     "metadata": {},
     "output_type": "display_data"
    }
   ],
   "source": [
    "# If you haven't already, convert Spark to Pandas\n",
    "# (Assuming moving_avg_df is your Spark DataFrame)\n",
    "#df_ma = moving_avg_df.orderBy(\"date\").toPandas()\n",
    "\n",
    "# Optional: convert date to datetime just in case\n",
    "df_ma[\"date\"] = pd.to_datetime(df_ma[\"date\"])\n",
    "\n",
    "# Plot: one line per coin\n",
    "plt.figure(figsize=(12, 6))\n",
    "\n",
    "for coin in df_ma[\"id_crypto\"].unique():\n",
    "    subset = df_ma[df_ma[\"id_crypto\"] == coin]\n",
    "    plt.plot(subset[\"date\"], subset[\"moving_avg_5_day\"], label=coin)\n",
    "\n",
    "plt.title(\"5-Day Moving Average of Crypto Prices\")\n",
    "plt.xlabel(\"Date\")\n",
    "plt.ylabel(\"Price (5-Day MA)\")\n",
    "plt.legend()\n",
    "plt.grid(True)\n",
    "plt.tight_layout()\n",
    "plt.show()\n"
   ]
  },
  {
   "cell_type": "code",
   "execution_count": null,
   "id": "3ad1aa26-379a-4e84-9aac-4a54c3f459be",
   "metadata": {},
   "outputs": [],
   "source": []
  }
 ],
 "metadata": {
  "kernelspec": {
   "display_name": "Python 3 (ipykernel)",
   "language": "python",
   "name": "python3"
  },
  "language_info": {
   "codemirror_mode": {
    "name": "ipython",
    "version": 3
   },
   "file_extension": ".py",
   "mimetype": "text/x-python",
   "name": "python",
   "nbconvert_exporter": "python",
   "pygments_lexer": "ipython3",
   "version": "3.11.6"
  }
 },
 "nbformat": 4,
 "nbformat_minor": 5
}
